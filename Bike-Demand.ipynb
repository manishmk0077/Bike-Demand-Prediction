{
 "cells": [
  {
   "cell_type": "code",
   "execution_count": 1,
   "id": "complimentary-cancer",
   "metadata": {},
   "outputs": [],
   "source": [
    "# ----------------------------------------------\n",
    "# Step 0 - Import Libraries\n",
    "# ----------------------------------------------\n",
    "import pandas as pd\n",
    "import matplotlib.pyplot as plt\n",
    "import numpy as np\n",
    "import math\n",
    "\n"
   ]
  },
  {
   "cell_type": "code",
   "execution_count": 11,
   "id": "little-native",
   "metadata": {
    "scrolled": false
   },
   "outputs": [
    {
     "data": {
      "text/html": [
       "<div>\n",
       "<style scoped>\n",
       "    .dataframe tbody tr th:only-of-type {\n",
       "        vertical-align: middle;\n",
       "    }\n",
       "\n",
       "    .dataframe tbody tr th {\n",
       "        vertical-align: top;\n",
       "    }\n",
       "\n",
       "    .dataframe thead th {\n",
       "        text-align: right;\n",
       "    }\n",
       "</style>\n",
       "<table border=\"1\" class=\"dataframe\">\n",
       "  <thead>\n",
       "    <tr style=\"text-align: right;\">\n",
       "      <th></th>\n",
       "      <th>index</th>\n",
       "      <th>date</th>\n",
       "      <th>season</th>\n",
       "      <th>year</th>\n",
       "      <th>month</th>\n",
       "      <th>hour</th>\n",
       "      <th>holiday</th>\n",
       "      <th>weekday</th>\n",
       "      <th>workingday</th>\n",
       "      <th>weather</th>\n",
       "      <th>temp</th>\n",
       "      <th>atemp</th>\n",
       "      <th>humidity</th>\n",
       "      <th>windspeed</th>\n",
       "      <th>casual</th>\n",
       "      <th>registered</th>\n",
       "      <th>demand</th>\n",
       "    </tr>\n",
       "  </thead>\n",
       "  <tbody>\n",
       "    <tr>\n",
       "      <th>0</th>\n",
       "      <td>1</td>\n",
       "      <td>01-01-2011</td>\n",
       "      <td>1</td>\n",
       "      <td>0</td>\n",
       "      <td>1</td>\n",
       "      <td>0</td>\n",
       "      <td>0</td>\n",
       "      <td>6</td>\n",
       "      <td>0</td>\n",
       "      <td>1</td>\n",
       "      <td>0.24</td>\n",
       "      <td>0.2879</td>\n",
       "      <td>0.81</td>\n",
       "      <td>0.0000</td>\n",
       "      <td>3</td>\n",
       "      <td>13</td>\n",
       "      <td>16</td>\n",
       "    </tr>\n",
       "    <tr>\n",
       "      <th>1</th>\n",
       "      <td>2</td>\n",
       "      <td>01-01-2011</td>\n",
       "      <td>1</td>\n",
       "      <td>0</td>\n",
       "      <td>1</td>\n",
       "      <td>1</td>\n",
       "      <td>0</td>\n",
       "      <td>6</td>\n",
       "      <td>0</td>\n",
       "      <td>1</td>\n",
       "      <td>0.22</td>\n",
       "      <td>0.2727</td>\n",
       "      <td>0.80</td>\n",
       "      <td>0.0000</td>\n",
       "      <td>8</td>\n",
       "      <td>32</td>\n",
       "      <td>40</td>\n",
       "    </tr>\n",
       "    <tr>\n",
       "      <th>2</th>\n",
       "      <td>3</td>\n",
       "      <td>01-01-2011</td>\n",
       "      <td>1</td>\n",
       "      <td>0</td>\n",
       "      <td>1</td>\n",
       "      <td>2</td>\n",
       "      <td>0</td>\n",
       "      <td>6</td>\n",
       "      <td>0</td>\n",
       "      <td>1</td>\n",
       "      <td>0.22</td>\n",
       "      <td>0.2727</td>\n",
       "      <td>0.80</td>\n",
       "      <td>0.0000</td>\n",
       "      <td>5</td>\n",
       "      <td>27</td>\n",
       "      <td>32</td>\n",
       "    </tr>\n",
       "    <tr>\n",
       "      <th>3</th>\n",
       "      <td>4</td>\n",
       "      <td>01-01-2011</td>\n",
       "      <td>1</td>\n",
       "      <td>0</td>\n",
       "      <td>1</td>\n",
       "      <td>3</td>\n",
       "      <td>0</td>\n",
       "      <td>6</td>\n",
       "      <td>0</td>\n",
       "      <td>1</td>\n",
       "      <td>0.24</td>\n",
       "      <td>0.2879</td>\n",
       "      <td>0.75</td>\n",
       "      <td>0.0000</td>\n",
       "      <td>3</td>\n",
       "      <td>10</td>\n",
       "      <td>13</td>\n",
       "    </tr>\n",
       "    <tr>\n",
       "      <th>4</th>\n",
       "      <td>5</td>\n",
       "      <td>01-01-2011</td>\n",
       "      <td>1</td>\n",
       "      <td>0</td>\n",
       "      <td>1</td>\n",
       "      <td>4</td>\n",
       "      <td>0</td>\n",
       "      <td>6</td>\n",
       "      <td>0</td>\n",
       "      <td>1</td>\n",
       "      <td>0.24</td>\n",
       "      <td>0.2879</td>\n",
       "      <td>0.75</td>\n",
       "      <td>0.0000</td>\n",
       "      <td>0</td>\n",
       "      <td>1</td>\n",
       "      <td>1</td>\n",
       "    </tr>\n",
       "    <tr>\n",
       "      <th>...</th>\n",
       "      <td>...</td>\n",
       "      <td>...</td>\n",
       "      <td>...</td>\n",
       "      <td>...</td>\n",
       "      <td>...</td>\n",
       "      <td>...</td>\n",
       "      <td>...</td>\n",
       "      <td>...</td>\n",
       "      <td>...</td>\n",
       "      <td>...</td>\n",
       "      <td>...</td>\n",
       "      <td>...</td>\n",
       "      <td>...</td>\n",
       "      <td>...</td>\n",
       "      <td>...</td>\n",
       "      <td>...</td>\n",
       "      <td>...</td>\n",
       "    </tr>\n",
       "    <tr>\n",
       "      <th>17374</th>\n",
       "      <td>17375</td>\n",
       "      <td>31-12-2012</td>\n",
       "      <td>1</td>\n",
       "      <td>1</td>\n",
       "      <td>12</td>\n",
       "      <td>19</td>\n",
       "      <td>0</td>\n",
       "      <td>1</td>\n",
       "      <td>1</td>\n",
       "      <td>2</td>\n",
       "      <td>0.26</td>\n",
       "      <td>0.2576</td>\n",
       "      <td>0.60</td>\n",
       "      <td>0.1642</td>\n",
       "      <td>11</td>\n",
       "      <td>108</td>\n",
       "      <td>119</td>\n",
       "    </tr>\n",
       "    <tr>\n",
       "      <th>17375</th>\n",
       "      <td>17376</td>\n",
       "      <td>31-12-2012</td>\n",
       "      <td>1</td>\n",
       "      <td>1</td>\n",
       "      <td>12</td>\n",
       "      <td>20</td>\n",
       "      <td>0</td>\n",
       "      <td>1</td>\n",
       "      <td>1</td>\n",
       "      <td>2</td>\n",
       "      <td>0.26</td>\n",
       "      <td>0.2576</td>\n",
       "      <td>0.60</td>\n",
       "      <td>0.1642</td>\n",
       "      <td>8</td>\n",
       "      <td>81</td>\n",
       "      <td>89</td>\n",
       "    </tr>\n",
       "    <tr>\n",
       "      <th>17376</th>\n",
       "      <td>17377</td>\n",
       "      <td>31-12-2012</td>\n",
       "      <td>1</td>\n",
       "      <td>1</td>\n",
       "      <td>12</td>\n",
       "      <td>21</td>\n",
       "      <td>0</td>\n",
       "      <td>1</td>\n",
       "      <td>1</td>\n",
       "      <td>1</td>\n",
       "      <td>0.26</td>\n",
       "      <td>0.2576</td>\n",
       "      <td>0.60</td>\n",
       "      <td>0.1642</td>\n",
       "      <td>7</td>\n",
       "      <td>83</td>\n",
       "      <td>90</td>\n",
       "    </tr>\n",
       "    <tr>\n",
       "      <th>17377</th>\n",
       "      <td>17378</td>\n",
       "      <td>31-12-2012</td>\n",
       "      <td>1</td>\n",
       "      <td>1</td>\n",
       "      <td>12</td>\n",
       "      <td>22</td>\n",
       "      <td>0</td>\n",
       "      <td>1</td>\n",
       "      <td>1</td>\n",
       "      <td>1</td>\n",
       "      <td>0.26</td>\n",
       "      <td>0.2727</td>\n",
       "      <td>0.56</td>\n",
       "      <td>0.1343</td>\n",
       "      <td>13</td>\n",
       "      <td>48</td>\n",
       "      <td>61</td>\n",
       "    </tr>\n",
       "    <tr>\n",
       "      <th>17378</th>\n",
       "      <td>17379</td>\n",
       "      <td>31-12-2012</td>\n",
       "      <td>1</td>\n",
       "      <td>1</td>\n",
       "      <td>12</td>\n",
       "      <td>23</td>\n",
       "      <td>0</td>\n",
       "      <td>1</td>\n",
       "      <td>1</td>\n",
       "      <td>1</td>\n",
       "      <td>0.26</td>\n",
       "      <td>0.2727</td>\n",
       "      <td>0.65</td>\n",
       "      <td>0.1343</td>\n",
       "      <td>12</td>\n",
       "      <td>37</td>\n",
       "      <td>49</td>\n",
       "    </tr>\n",
       "  </tbody>\n",
       "</table>\n",
       "<p>17379 rows × 17 columns</p>\n",
       "</div>"
      ],
      "text/plain": [
       "       index        date  season  year  month  hour  holiday  weekday  \\\n",
       "0          1  01-01-2011       1     0      1     0        0        6   \n",
       "1          2  01-01-2011       1     0      1     1        0        6   \n",
       "2          3  01-01-2011       1     0      1     2        0        6   \n",
       "3          4  01-01-2011       1     0      1     3        0        6   \n",
       "4          5  01-01-2011       1     0      1     4        0        6   \n",
       "...      ...         ...     ...   ...    ...   ...      ...      ...   \n",
       "17374  17375  31-12-2012       1     1     12    19        0        1   \n",
       "17375  17376  31-12-2012       1     1     12    20        0        1   \n",
       "17376  17377  31-12-2012       1     1     12    21        0        1   \n",
       "17377  17378  31-12-2012       1     1     12    22        0        1   \n",
       "17378  17379  31-12-2012       1     1     12    23        0        1   \n",
       "\n",
       "       workingday  weather  temp   atemp  humidity  windspeed  casual  \\\n",
       "0               0        1  0.24  0.2879      0.81     0.0000       3   \n",
       "1               0        1  0.22  0.2727      0.80     0.0000       8   \n",
       "2               0        1  0.22  0.2727      0.80     0.0000       5   \n",
       "3               0        1  0.24  0.2879      0.75     0.0000       3   \n",
       "4               0        1  0.24  0.2879      0.75     0.0000       0   \n",
       "...           ...      ...   ...     ...       ...        ...     ...   \n",
       "17374           1        2  0.26  0.2576      0.60     0.1642      11   \n",
       "17375           1        2  0.26  0.2576      0.60     0.1642       8   \n",
       "17376           1        1  0.26  0.2576      0.60     0.1642       7   \n",
       "17377           1        1  0.26  0.2727      0.56     0.1343      13   \n",
       "17378           1        1  0.26  0.2727      0.65     0.1343      12   \n",
       "\n",
       "       registered  demand  \n",
       "0              13      16  \n",
       "1              32      40  \n",
       "2              27      32  \n",
       "3              10      13  \n",
       "4               1       1  \n",
       "...           ...     ...  \n",
       "17374         108     119  \n",
       "17375          81      89  \n",
       "17376          83      90  \n",
       "17377          48      61  \n",
       "17378          37      49  \n",
       "\n",
       "[17379 rows x 17 columns]"
      ]
     },
     "execution_count": 11,
     "metadata": {},
     "output_type": "execute_result"
    }
   ],
   "source": [
    "# ----------------------------------------------\n",
    "# Step 1 - Read the data\n",
    "# ----------------------------------------------\n",
    "bikes = pd.read_csv(\"hour.csv\")\n",
    "bikes"
   ]
  },
  {
   "cell_type": "code",
   "execution_count": 10,
   "id": "domestic-sacrifice",
   "metadata": {},
   "outputs": [
    {
     "data": {
      "text/plain": [
       "season        0\n",
       "year          0\n",
       "month         0\n",
       "hour          0\n",
       "holiday       0\n",
       "weekday       0\n",
       "workingday    0\n",
       "weather       0\n",
       "temp          0\n",
       "atemp         0\n",
       "humidity      0\n",
       "windspeed     0\n",
       "demand        0\n",
       "dtype: int64"
      ]
     },
     "execution_count": 10,
     "metadata": {},
     "output_type": "execute_result"
    }
   ],
   "source": [
    "# ----------------------------------------------\n",
    "# Step 2 - Prelim Analysis and Feature selection\n",
    "# ----------------------------------------------\n",
    "bikes_prep = bikes.copy()\n",
    "bikes_prep = bikes_prep.drop(['index', 'date', 'casual', 'registered'], axis=1)\n",
    "\n",
    "bikes_prep.isnull().sum()"
   ]
  },
  {
   "cell_type": "code",
   "execution_count": 16,
   "id": "fewer-porter",
   "metadata": {},
   "outputs": [
    {
     "data": {
      "image/png": "[encoded data removed]",
      "text/plain": [
       "<Figure size 432x288 with 16 Axes>"
      ]
     },
     "metadata": {
      "needs_background": "light"
     },
     "output_type": "display_data"
    }
   ],
   "source": [
    "# Create pandas histogram\n",
    "bikes_prep.hist(rwidth = 0.9)\n",
    "plt.tight_layout()\n",
    "plt.show()"
   ]
  },
  {
   "cell_type": "code",
   "execution_count": 17,
   "id": "gorgeous-healing",
   "metadata": {},
   "outputs": [
    {
     "data": {
      "image/png": "[encoded data removed]",
      "text/plain": [
       "<Figure size 432x288 with 4 Axes>"
      ]
     },
     "metadata": {
      "needs_background": "light"
     },
     "output_type": "display_data"
    }
   ],
   "source": [
    "# ----------------------------------------------\n",
    "# Step 3 - Data Visualisation\n",
    "# ----------------------------------------------\n",
    "#\n",
    "# Visualise the continuous features Vs demand\n",
    "plt.subplot(2,2,1)\n",
    "plt.title('Temperature Vs Demand')\n",
    "plt.scatter(bikes_prep['temp'], bikes_prep['demand'], s=2, c='g')\n",
    "\n",
    "plt.subplot(2,2,2)\n",
    "plt.title('aTemp Vs Demand')\n",
    "plt.scatter(bikes_prep['atemp'], bikes_prep['demand'], s=2, c='b')\n",
    "\n",
    "plt.subplot(2,2,3)\n",
    "plt.title('Humidity Vs Demand')\n",
    "plt.scatter(bikes_prep['humidity'], bikes_prep['demand'], s=2, c='m')\n",
    "\n",
    "plt.subplot(2,2,4)\n",
    "plt.title('Windspeed Vs Demand')\n",
    "plt.scatter(bikes_prep['windspeed'], bikes_prep['demand'], s=2, c='c')\n",
    "\n",
    "plt.tight_layout()"
   ]
  },
  {
   "cell_type": "code",
   "execution_count": 18,
   "id": "abstract-lightning",
   "metadata": {},
   "outputs": [
    {
     "data": {
      "image/png": "[encoded data removed]",
      "text/plain": [
       "<Figure size 432x288 with 8 Axes>"
      ]
     },
     "metadata": {
      "needs_background": "light"
     },
     "output_type": "display_data"
    }
   ],
   "source": [
    "\n",
    "# Visualise the categorical features\n",
    "colors = ['g', 'r', 'm', 'b']\n",
    "\n",
    "plt.subplot(3,3,1)\n",
    "plt.title('Average Demand per Season')\n",
    "cat_list = bikes_prep['season'].unique()\n",
    "cat_average = bikes_prep.groupby('season').mean()['demand']\n",
    "plt.bar(cat_list, cat_average, color=colors)\n",
    "\n",
    "plt.subplot(3,3,2)\n",
    "plt.title('Average Demand per month')\n",
    "cat_list = bikes_prep['month'].unique()\n",
    "cat_average = bikes_prep.groupby('month').mean()['demand']\n",
    "plt.bar(cat_list, cat_average, color=colors)\n",
    "\n",
    "plt.subplot(3,3,3)\n",
    "plt.title('Average Demand per Holiday')\n",
    "cat_list = bikes_prep['holiday'].unique()\n",
    "cat_average = bikes_prep.groupby('holiday').mean()['demand']\n",
    "plt.bar(cat_list, cat_average, color=colors)\n",
    "\n",
    "plt.subplot(3,3,4)\n",
    "plt.title('Average Demand per Weekday')\n",
    "cat_list = bikes_prep['weekday'].unique()\n",
    "cat_average = bikes_prep.groupby('weekday').mean()['demand']\n",
    "plt.bar(cat_list, cat_average, color=colors)\n",
    "\n",
    "plt.subplot(3,3,5)\n",
    "plt.title('Average Demand per Year')\n",
    "cat_list = bikes_prep['year'].unique()\n",
    "cat_average = bikes_prep.groupby('year').mean()['demand']\n",
    "plt.bar(cat_list, cat_average, color=colors)\n",
    "\n",
    "plt.subplot(3,3,6)\n",
    "plt.title('Average Demand per hour')\n",
    "cat_list = bikes_prep['hour'].unique()\n",
    "cat_average = bikes_prep.groupby('hour').mean()['demand']\n",
    "plt.bar(cat_list, cat_average, color=colors)\n",
    "\n",
    "plt.subplot(3,3,7)\n",
    "plt.title('Average Demand per Workingday')\n",
    "cat_list = bikes_prep['workingday'].unique()\n",
    "cat_average = bikes_prep.groupby('workingday').mean()['demand']\n",
    "plt.bar(cat_list, cat_average, color=colors)\n",
    "\n",
    "plt.subplot(3,3,8)\n",
    "plt.title('Average Demand per Weather')\n",
    "cat_list = bikes_prep['weather'].unique()\n",
    "cat_average = bikes_prep.groupby('weather').mean()['demand']\n",
    "plt.bar(cat_list, cat_average, color=colors)\n",
    "\n",
    "plt.tight_layout()\n"
   ]
  },
  {
   "cell_type": "code",
   "execution_count": 19,
   "id": "constitutional-pledge",
   "metadata": {},
   "outputs": [
    {
     "data": {
      "text/plain": [
       "0.05      5.00\n",
       "0.10      9.00\n",
       "0.15     16.00\n",
       "0.90    451.20\n",
       "0.95    563.10\n",
       "0.99    782.22\n",
       "Name: demand, dtype: float64"
      ]
     },
     "execution_count": 19,
     "metadata": {},
     "output_type": "execute_result"
    }
   ],
   "source": [
    "# Check for outliers\n",
    "\n",
    "bikes_prep['demand'].describe()\n",
    "\n",
    "bikes_prep['demand'].quantile([0.05, 0.1, 0.15, 0.9, 0.95, 0.99])\n"
   ]
  },
  {
   "cell_type": "code",
   "execution_count": 20,
   "id": "powered-public",
   "metadata": {},
   "outputs": [
    {
     "data": {
      "text/plain": [
       "(array([-12, -11, -10,  -9,  -8,  -7,  -6,  -5,  -4,  -3,  -2,  -1,   0,\n",
       "          1,   2,   3,   4,   5,   6,   7,   8,   9,  10,  11,  12]),\n",
       " array([0.45474708, 0.4704955 , 0.49622798, 0.49404052, 0.4679593 ,\n",
       "        0.47732034, 0.52675766, 0.59145737, 0.6520156 , 0.7151954 ,\n",
       "        0.80591017, 0.92530966, 1.        , 0.92530966, 0.80591017,\n",
       "        0.7151954 , 0.6520156 , 0.59145737, 0.52675766, 0.47732034,\n",
       "        0.4679593 , 0.49404052, 0.49622798, 0.4704955 , 0.45474708],\n",
       "       dtype=float32),\n",
       " <matplotlib.collections.LineCollection at 0x21ea40793c8>,\n",
       " <matplotlib.lines.Line2D at 0x21ea373e108>)"
      ]
     },
     "execution_count": 20,
     "metadata": {},
     "output_type": "execute_result"
    },
    {
     "data": {
      "image/png": "[encoded data removed]",
      "text/plain": [
       "<Figure size 432x288 with 1 Axes>"
      ]
     },
     "metadata": {
      "needs_background": "light"
     },
     "output_type": "display_data"
    }
   ],
   "source": [
    "\n",
    "# ------------------------------------------------------\n",
    "# Step 4 - Check Multiple Linear Regression Assumptions\n",
    "# ------------------------------------------------------\n",
    "\n",
    "# Linearity using correlation coefficient matrix using corr\n",
    "correlation = bikes_prep[['temp', 'atemp', 'humidity', 'windspeed', 'demand']].corr()\n",
    "\n",
    "# Step 5 - Drop irrelevant features\n",
    "bikes_prep = bikes_prep.drop(['weekday', 'year', 'workingday', 'atemp', 'windspeed'], axis=1)\n",
    "\n",
    "# Autocorrelation of demand using acor\n",
    "dff1 = pd.to_numeric(bikes_prep['demand'], downcast='float')\n",
    "plt.acorr(dff1, maxlags=12)"
   ]
  },
  {
   "cell_type": "code",
   "execution_count": 21,
   "id": "arranged-transmission",
   "metadata": {},
   "outputs": [
    {
     "data": {
      "image/png": "[encoded data removed]",
      "text/plain": [
       "<Figure size 432x288 with 1 Axes>"
      ]
     },
     "metadata": {
      "needs_background": "light"
     },
     "output_type": "display_data"
    },
    {
     "data": {
      "image/png": "[encoded data removed]",
      "text/plain": [
       "<Figure size 432x288 with 1 Axes>"
      ]
     },
     "metadata": {
      "needs_background": "light"
     },
     "output_type": "display_data"
    }
   ],
   "source": [
    "# ------------------------------------------------------\n",
    "# Step 6 - Create/Modify new features\n",
    "# ------------------------------------------------------\n",
    "# Log Normalise the feature 'Demand'\n",
    "df1 = bikes_prep['demand']\n",
    "df2 = np.log(df1)\n",
    "\n",
    "plt.figure()\n",
    "df1.hist(rwidth=0.9, bins=20)\n",
    "\n",
    "plt.figure()\n",
    "df2.hist(rwidth=0.9, bins=20)\n",
    "\n",
    "bikes_prep['demand'] = np.log(bikes_prep['demand'])\n"
   ]
  },
  {
   "cell_type": "code",
   "execution_count": 22,
   "id": "adjacent-capacity",
   "metadata": {},
   "outputs": [],
   "source": [
    "# Solve the problem of Autocorrelation\n",
    "# Shift the demand by 3 lags\n",
    "\n",
    "t_1 = bikes_prep['demand'].shift(+1).to_frame()\n",
    "t_1.columns = ['t-1']\n",
    "\n",
    "t_2 = bikes_prep['demand'].shift(+2).to_frame()\n",
    "t_2.columns = ['t-2']\n",
    "\n",
    "t_3 = bikes_prep['demand'].shift(+3).to_frame()\n",
    "t_3.columns = ['t-3']\n",
    "\n",
    "bikes_prep_lag = pd.concat([bikes_prep, t_1, t_2, t_3], axis=1)\n",
    "\n",
    "bikes_prep_lag = bikes_prep_lag.dropna()"
   ]
  },
  {
   "cell_type": "code",
   "execution_count": 23,
   "id": "simple-footage",
   "metadata": {},
   "outputs": [],
   "source": [
    "# -----------------------------------------------------------------------------\n",
    "# Step 7 - Create Dummy Variables and drop first to avoid dummy variables trap\n",
    "# -----------------------------------------------------------------------------\n",
    "# - season\n",
    "# - holiday\n",
    "# - weather\n",
    "# - month\n",
    "# - hour\n",
    "#\n",
    "# Using get_dummies\n",
    "#\n",
    "bikes_prep_lag.dtypes\n",
    "\n",
    "bikes_prep_lag['season'] = bikes_prep_lag['season'].astype('category')\n",
    "bikes_prep_lag['holiday'] = bikes_prep_lag['holiday'].astype('category')\n",
    "bikes_prep_lag['weather'] = bikes_prep_lag['weather'].astype('category')\n",
    "bikes_prep_lag['month'] = bikes_prep_lag['month'].astype('category')\n",
    "bikes_prep_lag['hour'] = bikes_prep_lag['hour'].astype('category')\n",
    "\n",
    "bikes_prep_lag = pd.get_dummies(bikes_prep_lag, drop_first=True)"
   ]
  },
  {
   "cell_type": "code",
   "execution_count": 24,
   "id": "outdoor-dayton",
   "metadata": {},
   "outputs": [],
   "source": [
    "# ----------------------------------------------------------\n",
    "# Step 8 - Create Train and test split\n",
    "# ----------------------------------------------------------\n",
    "# Split the X and Y dataset into training and testing set\n",
    "#\n",
    "#      from sklearn.model_selection import train_test_split\n",
    "#      X_train, X_test, Y_train, Y_test = \\\n",
    "#      train_test_split(X, Y, test_size = 0.4, random_state = 1234)\n",
    "#\n",
    "# Demand is time-series type of data\n",
    "\n",
    "Y = bikes_prep_lag[['demand']]\n",
    "X = bikes_prep_lag.drop(['demand'], axis=1)\n",
    "\n",
    "tr_size = 0.7 * len(X)\n",
    "tr_size = int(tr_size)\n",
    "\n",
    "X_train = X.values[0 : tr_size]\n",
    "X_test = X.values[tr_size : len(X)]\n",
    "\n",
    "Y_train = Y.values[0 : tr_size]\n",
    "Y_test = Y.values[tr_size : len(Y)]"
   ]
  },
  {
   "cell_type": "code",
   "execution_count": 27,
   "id": "systematic-comfort",
   "metadata": {},
   "outputs": [
    {
     "data": {
      "text/plain": [
       "0.38098800498170426"
      ]
     },
     "execution_count": 27,
     "metadata": {},
     "output_type": "execute_result"
    }
   ],
   "source": [
    "# ----------------------------------------------------------\n",
    "# Step 9 - Fit and Score the model\n",
    "# ----------------------------------------------------------\n",
    "# Linear Regression\n",
    "from sklearn.linear_model import LinearRegression\n",
    "\n",
    "std_reg = LinearRegression()\n",
    "std_reg.fit(X_train, Y_train)\n",
    "\n",
    "r2_train = std_reg.score(X_train, Y_train)\n",
    "r2_test  = std_reg.score(X_test, Y_test)\n",
    "\n",
    "\n",
    "# Create Y Predictions\n",
    "Y_predict = std_reg.predict(X_test)\n",
    "\n",
    "\n",
    "from sklearn.metrics import mean_squared_error\n",
    "rmse = math.sqrt(mean_squared_error(Y_test, Y_predict))\n",
    "rmse"
   ]
  },
  {
   "cell_type": "code",
   "execution_count": 26,
   "id": "parental-punishment",
   "metadata": {},
   "outputs": [
    {
     "name": "stdout",
     "output_type": "stream",
     "text": [
      "0.3560941706980207\n"
     ]
    }
   ],
   "source": [
    "# Calculate RMSLE and compare results\n",
    "# Exponent opposite to log\n",
    "\n",
    "Y_test_e = []\n",
    "Y_predict_e = []\n",
    "\n",
    "for i in range(0, len(Y_test)):\n",
    "    Y_test_e.append(math.exp(Y_test[i]))\n",
    "    Y_predict_e.append(math.exp(Y_predict[i]))\n",
    "\n",
    "log_sq_sum = 0.0\n",
    "\n",
    "for i in range(0, len(Y_test_e)):\n",
    "    log_a = math.log(Y_test_e[i] + 1)\n",
    "    log_p = math.log(Y_predict_e[i] + 1)\n",
    "    log_diff = (log_p - log_a)**2\n",
    "    log_sq_sum = log_sq_sum + log_diff\n",
    "\n",
    "rmsle = math.sqrt(log_sq_sum/len(Y_test))\n",
    "\n",
    "print(rmsle)\n"
   ]
  },
  {
   "cell_type": "code",
   "execution_count": null,
   "id": "psychological-precipitation",
   "metadata": {},
   "outputs": [],
   "source": []
  }
 ],
 "metadata": {
  "kernelspec": {
   "display_name": "Python 3",
   "language": "python",
   "name": "python3"
  },
  "language_info": {
   "codemirror_mode": {
    "name": "ipython",
    "version": 3
   },
   "file_extension": ".py",
   "mimetype": "text/x-python",
   "name": "python",
   "nbconvert_exporter": "python",
   "pygments_lexer": "ipython3",
   "version": "3.7.6"
  }
 },
 "nbformat": 4,
 "nbformat_minor": 5
}
